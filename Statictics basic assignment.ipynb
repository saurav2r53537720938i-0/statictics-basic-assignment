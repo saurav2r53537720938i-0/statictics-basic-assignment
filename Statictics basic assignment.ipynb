{
 "cells": [
  {
   "cell_type": "markdown",
   "id": "0b9a0d8e-0287-4ad7-b610-292e7c1491c8",
   "metadata": {},
   "source": [
    "Statictics is a branch of mathematics that involve collecting,organizing,analyzing,interpreting,and presenting data.It provide methods and techniques for making inferences and decision in the face of uncertainity often using probality theory. Statictics is widely used in various fields such as science,business econmics,social science,and more,to understand patterns,trends,and relationship within data."
   ]
  },
  {
   "cell_type": "markdown",
   "id": "875b8f94-f2ab-4c2f-8ba5-d5a5db1b8e3e",
   "metadata": {},
   "source": [
    "here are the main types of statictics are:"
   ]
  },
  {
   "cell_type": "markdown",
   "id": "74c1720c-642d-4fb9-b3c8-836e5d40ab69",
   "metadata": {},
   "source": [
    "1. Descriptive Statictics: Descriptive statistics involve summarizing and describing the main features of a dataset.This includes measures such as mean,median,mode,range,standard devation,and varaiance.for example,descriptive statictics can be used to summarize the averge income of a population of the distribution of ages in a simple."
   ]
  },
  {
   "cell_type": "markdown",
   "id": "8ebde946-5c80-42e2-b596-cc56c52c4bd4",
   "metadata": {},
   "source": [
    "2. Inferntial Statictics:Inferntial statictics involve making inferences or predictions about a population based on a sample of data.This includes techniques such as hypotheis testing confidence intervals and  regression analysis.for example inferntial statictics can be used to determine whether there is a significant diffrence in test is a two group."
   ]
  },
  {
   "cell_type": "markdown",
   "id": "3bddeee0-adec-47c9-8af7-4382c1e52a2c",
   "metadata": {},
   "source": [
    "There are mainly two types of data:"
   ]
  },
  {
   "cell_type": "markdown",
   "id": "897a9981-5de2-4eba-bfb9-001700178b8e",
   "metadata": {},
   "source": [
    "1. Nominal data: Nominal data consists of categories or labels without any particular order.Each category represent a distinct group,but there is no inherent ranking or order between them."
   ]
  },
  {
   "cell_type": "markdown",
   "id": "033b3a66-4ec1-4677-8688-03220ccccab9",
   "metadata": {},
   "source": [
    "2. Ordinal data: ordinal data also consits of categories,but there is a meaningful order or ranking between the categories however,the diffrence between the categories may not be equal or measurable.example include education level."
   ]
  },
  {
   "cell_type": "markdown",
   "id": "26fe139f-254a-40eb-8e7e-d1258f7a11ce",
   "metadata": {},
   "source": [
    "here how the dataset can be categorized:"
   ]
  },
  {
   "cell_type": "markdown",
   "id": "5294fcbb-01cb-4b8f-a9ed-66a456cd4887",
   "metadata": {},
   "source": [
    "* Quantitative data\n",
    ".heigt data of class:178.9,179,179.5,176,177.2,178.3,175.8\n",
    ".Number of mangoes exported by your farm:500,600,478,672\n",
    "\n",
    "* Qualitative data\n",
    ".Grading in exam:A+,A,B+,B,C+,C,D,E\n",
    ".color of mangoes:yellow,green,orange,red"
   ]
  },
  {
   "cell_type": "markdown",
   "id": "2dca9454-5aad-4677-80e7-b4e41f365067",
   "metadata": {},
   "source": [
    "the two types of level of meausurment:"
   ]
  },
  {
   "cell_type": "markdown",
   "id": "79889f43-d275-41f4-a51d-85aeef677edc",
   "metadata": {},
   "source": [
    "1. Nominal level of measurment:At this level,variable are categoricaland the values are merely labels or categories with no inherent order or ranking.Example they are just diffrent labels"
   ]
  },
  {
   "cell_type": "markdown",
   "id": "555f82f5-eacb-4d54-ac32-f22e144ef885",
   "metadata": {},
   "source": [
    "2. Ordinal levels of measurment: variables at this level have categorieswith a meanigful order or ranking,but the exact diffrent between the categories are not specified."
   ]
  },
  {
   "cell_type": "markdown",
   "id": "359a2d9b-acb8-4a57-b639-5aed025adb1b",
   "metadata": {},
   "source": [
    "Understanding the level of measurment is crucial when analyzing data because it determines the types of statical anyalyses and operations that are apporpriate for the data .using inapporpirate statical methods based on the level of measurement can inaccurate interpretions of the data."
   ]
  },
  {
   "cell_type": "markdown",
   "id": "0d62c16b-1501-47d1-9d3c-07e79dfdcf27",
   "metadata": {},
   "source": [
    "nominal data type is difrrent from ordinal datatype are :\n",
    "1. Nominal datatype consits of categories or labels with no inherent order or ranking.these categories are used to classify data into distnict groups.Example include gender (male,female)\n",
    "\n",
    "2. Ordinal datatype also consits of categories,but unlike mominal data,the categories have a meaningful order or ranking.Example high school diploma,bachelor;s degree,disagree"
   ]
  },
  {
   "cell_type": "markdown",
   "id": "c5304477-6e7e-4d38-8d8b-87e104c8a412",
   "metadata": {},
   "source": [
    "A histogram is commonly used to display data in terms of ranges.it prov"
   ]
  }
 ],
 "metadata": {
  "kernelspec": {
   "display_name": "Python 3 (ipykernel)",
   "language": "python",
   "name": "python3"
  },
  "language_info": {
   "codemirror_mode": {
    "name": "ipython",
    "version": 3
   },
   "file_extension": ".py",
   "mimetype": "text/x-python",
   "name": "python",
   "nbconvert_exporter": "python",
   "pygments_lexer": "ipython3",
   "version": "3.10.8"
  }
 },
 "nbformat": 4,
 "nbformat_minor": 5
}
